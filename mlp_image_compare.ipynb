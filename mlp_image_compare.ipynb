{
  "nbformat": 4,
  "nbformat_minor": 0,
  "metadata": {
    "colab": {
      "provenance": [],
      "gpuType": "A100",
      "machine_shape": "hm"
    },
    "kernelspec": {
      "name": "python3",
      "display_name": "Python 3"
    },
    "language_info": {
      "name": "python"
    },
    "accelerator": "GPU"
  },
  "cells": [
    {
      "cell_type": "code",
      "execution_count": null,
      "metadata": {
        "id": "4kPwV-metrPE"
      },
      "outputs": [],
      "source": [
        "import os\n",
        "import shutil\n",
        "import zipfile\n",
        "import numpy as np\n",
        "import tensorflow as tf\n",
        "from sklearn.model_selection import train_test_split\n",
        "from sklearn.metrics import confusion_matrix, classification_report\n",
        "from sklearn.utils.class_weight import compute_class_weight\n",
        "import seaborn as sns\n",
        "import matplotlib.pyplot as plt\n",
        "import pandas as pd\n",
        "from tensorflow.keras.preprocessing import image_dataset_from_directory\n",
        "from tensorflow.keras.callbacks import EarlyStopping"
      ]
    },
    {
      "cell_type": "code",
      "source": [
        "import tensorflow as tf\n",
        "gpus = tf.config.list_physical_devices('GPU')\n",
        "\n",
        "if gpus:\n",
        "    print(\"Available GPUs:\")\n",
        "    for gpu in gpus:\n",
        "        print(f\" - {gpu}\")\n",
        "else:\n",
        "    print(\"No GPUs detected.\")"
      ],
      "metadata": {
        "colab": {
          "base_uri": "https://localhost:8080/"
        },
        "id": "gFQE5hbfG0i_",
        "outputId": "76052847-fdd8-4204-fb7f-a84b687f130e"
      },
      "execution_count": null,
      "outputs": [
        {
          "output_type": "stream",
          "name": "stdout",
          "text": [
            "Available GPUs:\n",
            " - PhysicalDevice(name='/physical_device:GPU:0', device_type='GPU')\n"
          ]
        }
      ]
    },
    {
      "cell_type": "code",
      "source": [
        "tf.device('/GPU:0')"
      ],
      "metadata": {
        "colab": {
          "base_uri": "https://localhost:8080/"
        },
        "id": "QeTTaL72EcHb",
        "outputId": "02992bb3-ecf9-434c-f085-a700202eb2f1"
      },
      "execution_count": null,
      "outputs": [
        {
          "output_type": "execute_result",
          "data": {
            "text/plain": [
              "<tensorflow.python.eager.context._EagerDeviceContext at 0x7c572e075100>"
            ]
          },
          "metadata": {},
          "execution_count": 3
        }
      ]
    },
    {
      "cell_type": "code",
      "source": [
        "# from google.colab import drive\n",
        "# import zipfile\n",
        "# import os\n",
        "# # Mount Google Drive\n",
        "# drive.mount('/content/drive')\n",
        "\n",
        "# # Path to the zipped file in your Drive\n",
        "# zip_path = '/content/drive/My Drive/processed_images.zip'"
      ],
      "metadata": {
        "id": "yOPnVzNDz99q"
      },
      "execution_count": null,
      "outputs": []
    },
    {
      "cell_type": "code",
      "source": [
        "# Unzip the file into the desired directory\n",
        "# output_dir = '/content/unzipped_data'\n",
        "# os.makedirs(output_dir, exist_ok=True)\n",
        "\n",
        "# with zipfile.ZipFile(zip_path, 'r') as zip_ref:\n",
        "#     zip_ref.extractall(output_dir)\n",
        "\n",
        "# print(f\"Files unzipped into: {output_dir}\")"
      ],
      "metadata": {
        "id": "iO66ig330EgJ"
      },
      "execution_count": null,
      "outputs": []
    },
    {
      "cell_type": "code",
      "source": [
        "# Constants\n",
        "RANDOM_SEED = 42\n",
        "DATASET_DIR = 'unzipped_data/processed_images'\n",
        "MODEL_SAVE_PATH = 'sample_data/mlp_classifier.hdf5'\n",
        "TFLITE_SAVE_PATH = 'sample_data/mlp_classifier.tflite'\n",
        "NUM_CLASSES = 26\n",
        "TRAIN_DIR = 'unzipped_data/split/train'\n",
        "VAL_DIR = 'unzipped_data/split/val'\n",
        "TEST_DIR = 'unzipped_data/split/test'\n",
        "IMAGE_SIZE = (224,224)\n",
        "BATCH_SIZE = 128\n",
        "BUFFER_SIZE = 1000\n",
        "EPOCHS = 1000"
      ],
      "metadata": {
        "id": "IJpoCFLuurc6"
      },
      "execution_count": null,
      "outputs": []
    },
    {
      "cell_type": "code",
      "source": [],
      "metadata": {
        "id": "0i3p0m8FZ5k-"
      },
      "execution_count": null,
      "outputs": []
    },
    {
      "cell_type": "code",
      "source": [
        "# Create directories for splits\n",
        "# os.makedirs(TRAIN_DIR, exist_ok=True)\n",
        "# os.makedirs(VAL_DIR, exist_ok=True)\n",
        "# os.makedirs(TEST_DIR, exist_ok=True)"
      ],
      "metadata": {
        "id": "s0EMXZOTusrk"
      },
      "execution_count": null,
      "outputs": []
    },
    {
      "cell_type": "code",
      "source": [
        "# Split dataset\n",
        "# for label in os.listdir(DATASET_DIR):\n",
        "#     label_dir = os.path.join(DATASET_DIR, label)\n",
        "#     images = os.listdir(label_dir)\n",
        "\n",
        "#     # First split: 60% train, 40% temp (val+test)\n",
        "#     train_imgs, temp_imgs = train_test_split(images, test_size=0.4, random_state=RANDOM_SEED)\n",
        "\n",
        "#     # Second split: 50% of temp for val, 50% for test\n",
        "#     val_imgs, test_imgs = train_test_split(temp_imgs, test_size=0.5, random_state=RANDOM_SEED)\n",
        "\n",
        "#     # Copy images to split directories\n",
        "#     for split, split_imgs in zip([TRAIN_DIR, VAL_DIR, TEST_DIR], [train_imgs, val_imgs, test_imgs]):\n",
        "#         split_label_dir = os.path.join(split, label)\n",
        "#         os.makedirs(split_label_dir, exist_ok=True)\n",
        "#         for img in split_imgs:\n",
        "#             shutil.copy(os.path.join(label_dir, img), os.path.join(split_label_dir, img))"
      ],
      "metadata": {
        "id": "nZsVQAkf1_lr"
      },
      "execution_count": null,
      "outputs": []
    },
    {
      "cell_type": "code",
      "source": [
        "# Load datasets\n",
        "train_dataset = tf.keras.preprocessing.image_dataset_from_directory(\n",
        "    TRAIN_DIR, image_size=IMAGE_SIZE, batch_size=BATCH_SIZE, label_mode='int', shuffle=True, seed=RANDOM_SEED\n",
        ")\n",
        "val_dataset = tf.keras.preprocessing.image_dataset_from_directory(\n",
        "    VAL_DIR, image_size=IMAGE_SIZE, batch_size=BATCH_SIZE, label_mode='int', shuffle=True, seed=RANDOM_SEED\n",
        ")\n",
        "test_dataset = tf.keras.preprocessing.image_dataset_from_directory(\n",
        "    TEST_DIR, image_size=IMAGE_SIZE, batch_size=BATCH_SIZE, label_mode='int', shuffle=False\n",
        ")"
      ],
      "metadata": {
        "id": "nypmkaYWuvmJ",
        "colab": {
          "base_uri": "https://localhost:8080/"
        },
        "outputId": "6a8d71ab-7483-4b19-af18-40e1184f77f8"
      },
      "execution_count": null,
      "outputs": [
        {
          "output_type": "stream",
          "name": "stdout",
          "text": [
            "Found 140469 files belonging to 26 classes.\n",
            "Found 46827 files belonging to 26 classes.\n",
            "Found 46837 files belonging to 26 classes.\n"
          ]
        }
      ]
    },
    {
      "cell_type": "code",
      "source": [
        "# Prefetch datasets\n",
        "train_dataset = train_dataset.prefetch(buffer_size=BUFFER_SIZE)\n",
        "val_dataset = val_dataset.prefetch(buffer_size=BUFFER_SIZE)\n",
        "test_dataset = test_dataset.prefetch(buffer_size=BUFFER_SIZE)"
      ],
      "metadata": {
        "id": "6MCAG_KIuwvc"
      },
      "execution_count": null,
      "outputs": []
    },
    {
      "cell_type": "code",
      "source": [
        "# Normalize datasets\n",
        "def preprocess_image(image, label):\n",
        "    image = tf.cast(image, tf.float32) / 255.0\n",
        "    return image, label"
      ],
      "metadata": {
        "id": "cgILwFnFuzZe"
      },
      "execution_count": null,
      "outputs": []
    },
    {
      "cell_type": "code",
      "source": [
        "train_dataset = train_dataset.map(preprocess_image)\n",
        "val_dataset = val_dataset.map(preprocess_image)\n",
        "test_dataset = test_dataset.map(preprocess_image)"
      ],
      "metadata": {
        "id": "7L2SSYBZu1J9"
      },
      "execution_count": null,
      "outputs": []
    },
    {
      "cell_type": "code",
      "source": [
        "# Compute class weights\n",
        "from collections import Counter\n",
        "label_counts = Counter()\n",
        "for label in os.listdir(TRAIN_DIR):\n",
        "    label_counts[label] = len(os.listdir(os.path.join(TRAIN_DIR, label)))\n",
        "\n",
        "total_samples = sum(label_counts.values())\n",
        "classes = list(label_counts.keys())  # Classes as strings\n",
        "samples_per_class = np.array(list(label_counts.values()))\n",
        "\n",
        "class_weights = total_samples / (len(classes) * samples_per_class)\n",
        "class_weights_dict = {i: weight for i, weight in enumerate(class_weights)}\n",
        "\n",
        "print(\"Class weights:\", class_weights_dict)"
      ],
      "metadata": {
        "id": "zaNVe8ppu3Rl",
        "colab": {
          "base_uri": "https://localhost:8080/"
        },
        "outputId": "5ef1707d-1d66-45c7-be34-b2ff65283ed0"
      },
      "execution_count": null,
      "outputs": [
        {
          "output_type": "stream",
          "name": "stdout",
          "text": [
            "Class weights: {0: 0.9971675611210495, 1: 1.144387597151842, 2: 0.9498336579032781, 3: 1.003837578252294, 4: 1.0174489352455454, 5: 1.1656211102813046, 6: 0.8814902669528221, 7: 1.0927697908887228, 8: 1.1631116999254782, 9: 1.1148687259913013, 10: 0.9216400283442249, 11: 0.9244787553309114, 12: 0.9725749498026726, 13: 1.0610082180192157, 14: 0.9951471442537937, 15: 0.9927699092528199, 16: 0.8685938659411329, 17: 0.9597892780518469, 18: 0.9407372185536907, 19: 1.0762258657676984, 20: 0.959448383262981, 21: 0.9620110124917817, 22: 1.061842343976778, 23: 1.086178899508212, 24: 0.9194441535319684, 25: 0.9428715263793798}\n"
          ]
        }
      ]
    },
    {
      "cell_type": "code",
      "source": [
        "# Build the MLP model\n",
        "def build_mlp_model(input_shape=(224, 224, 3)):\n",
        "    model = tf.keras.models.Sequential([\n",
        "        tf.keras.layers.Flatten(input_shape=input_shape),\n",
        "        tf.keras.layers.BatchNormalization(),\n",
        "        tf.keras.layers.Dense(128, activation='relu'),\n",
        "        tf.keras.layers.BatchNormalization(),\n",
        "        tf.keras.layers.Dropout(0.4),\n",
        "        tf.keras.layers.Dense(64, activation='relu'),\n",
        "        tf.keras.layers.BatchNormalization(),\n",
        "        tf.keras.layers.Dropout(0.4),\n",
        "        tf.keras.layers.Dense(32, activation='relu'),\n",
        "        tf.keras.layers.BatchNormalization(),\n",
        "        tf.keras.layers.Dense(NUM_CLASSES, activation='softmax')\n",
        "    ])\n",
        "    model.compile(optimizer='adam', loss='sparse_categorical_crossentropy', metrics=['accuracy'])\n",
        "    return model"
      ],
      "metadata": {
        "id": "XrG3CBQJvArX"
      },
      "execution_count": null,
      "outputs": []
    },
    {
      "cell_type": "code",
      "source": [
        "# Initialize the model\n",
        "model = build_mlp_model()"
      ],
      "metadata": {
        "id": "VE-3I6A_u-Ao",
        "colab": {
          "base_uri": "https://localhost:8080/"
        },
        "outputId": "5e6abad0-32be-46a2-92b0-ab2d0233b6b6"
      },
      "execution_count": null,
      "outputs": [
        {
          "output_type": "stream",
          "name": "stderr",
          "text": [
            "/usr/local/lib/python3.10/dist-packages/keras/src/layers/reshaping/flatten.py:37: UserWarning: Do not pass an `input_shape`/`input_dim` argument to a layer. When using Sequential models, prefer using an `Input(shape)` object as the first layer in the model instead.\n",
            "  super().__init__(**kwargs)\n"
          ]
        }
      ]
    },
    {
      "cell_type": "code",
      "source": [
        "# Add EarlyStopping to stop training when validation loss stops improving\n",
        "early_stopping = EarlyStopping(\n",
        "    monitor='val_loss',\n",
        "    patience=50,  # Stop training if no improvement for 10 epochs\n",
        "    restore_best_weights=True,  # Restore model weights from the best epoch\n",
        "    verbose=1\n",
        ")"
      ],
      "metadata": {
        "id": "uMHvncigvEZi"
      },
      "execution_count": null,
      "outputs": []
    },
    {
      "cell_type": "code",
      "source": [
        "# Train the model with EarlyStopping\n",
        "history = model.fit(\n",
        "    train_dataset,\n",
        "    validation_data=val_dataset,\n",
        "    epochs=EPOCHS,\n",
        "    callbacks=[early_stopping],\n",
        "    verbose=2\n",
        ")"
      ],
      "metadata": {
        "id": "Pngg1uvkvKSV",
        "colab": {
          "base_uri": "https://localhost:8080/"
        },
        "outputId": "74afdd66-58f3-46df-a350-35b07e70997b"
      },
      "execution_count": null,
      "outputs": [
        {
          "output_type": "stream",
          "name": "stdout",
          "text": [
            "Epoch 1/1000\n",
            "1098/1098 - 66s - 60ms/step - accuracy: 0.7342 - loss: 0.8694 - val_accuracy: 0.9827 - val_loss: 0.0605\n",
            "Epoch 2/1000\n",
            "1098/1098 - 51s - 46ms/step - accuracy: 0.9548 - loss: 0.1447 - val_accuracy: 0.9922 - val_loss: 0.0257\n",
            "Epoch 3/1000\n",
            "1098/1098 - 50s - 46ms/step - accuracy: 0.9712 - loss: 0.0912 - val_accuracy: 0.9964 - val_loss: 0.0107\n",
            "Epoch 4/1000\n",
            "1098/1098 - 50s - 46ms/step - accuracy: 0.9793 - loss: 0.0661 - val_accuracy: 0.9960 - val_loss: 0.0113\n",
            "Epoch 5/1000\n",
            "1098/1098 - 51s - 46ms/step - accuracy: 0.9827 - loss: 0.0541 - val_accuracy: 0.9968 - val_loss: 0.0100\n",
            "Epoch 6/1000\n",
            "1098/1098 - 50s - 46ms/step - accuracy: 0.9853 - loss: 0.0459 - val_accuracy: 0.9984 - val_loss: 0.0052\n",
            "Epoch 7/1000\n",
            "1098/1098 - 50s - 46ms/step - accuracy: 0.9868 - loss: 0.0415 - val_accuracy: 0.9984 - val_loss: 0.0046\n",
            "Epoch 8/1000\n",
            "1098/1098 - 50s - 46ms/step - accuracy: 0.9887 - loss: 0.0357 - val_accuracy: 0.9979 - val_loss: 0.0061\n",
            "Epoch 9/1000\n",
            "1098/1098 - 50s - 46ms/step - accuracy: 0.9902 - loss: 0.0299 - val_accuracy: 0.9991 - val_loss: 0.0029\n",
            "Epoch 10/1000\n",
            "1098/1098 - 51s - 46ms/step - accuracy: 0.9913 - loss: 0.0279 - val_accuracy: 0.9993 - val_loss: 0.0027\n",
            "Epoch 11/1000\n",
            "1098/1098 - 50s - 46ms/step - accuracy: 0.9921 - loss: 0.0251 - val_accuracy: 0.9995 - val_loss: 0.0018\n",
            "Epoch 12/1000\n",
            "1098/1098 - 50s - 46ms/step - accuracy: 0.9929 - loss: 0.0224 - val_accuracy: 0.9993 - val_loss: 0.0025\n",
            "Epoch 13/1000\n",
            "1098/1098 - 50s - 46ms/step - accuracy: 0.9929 - loss: 0.0213 - val_accuracy: 0.9994 - val_loss: 0.0020\n",
            "Epoch 14/1000\n",
            "1098/1098 - 51s - 46ms/step - accuracy: 0.9946 - loss: 0.0170 - val_accuracy: 0.9992 - val_loss: 0.0027\n",
            "Epoch 15/1000\n",
            "1098/1098 - 50s - 46ms/step - accuracy: 0.9937 - loss: 0.0198 - val_accuracy: 0.9995 - val_loss: 0.0020\n",
            "Epoch 16/1000\n",
            "1098/1098 - 50s - 46ms/step - accuracy: 0.9946 - loss: 0.0171 - val_accuracy: 0.9995 - val_loss: 0.0016\n",
            "Epoch 17/1000\n",
            "1098/1098 - 50s - 46ms/step - accuracy: 0.9952 - loss: 0.0152 - val_accuracy: 0.9993 - val_loss: 0.0020\n",
            "Epoch 18/1000\n",
            "1098/1098 - 50s - 46ms/step - accuracy: 0.9956 - loss: 0.0136 - val_accuracy: 0.9995 - val_loss: 0.0017\n",
            "Epoch 19/1000\n",
            "1098/1098 - 51s - 46ms/step - accuracy: 0.9952 - loss: 0.0148 - val_accuracy: 0.9996 - val_loss: 0.0014\n",
            "Epoch 20/1000\n",
            "1098/1098 - 50s - 46ms/step - accuracy: 0.9961 - loss: 0.0121 - val_accuracy: 0.9997 - val_loss: 9.3154e-04\n",
            "Epoch 21/1000\n",
            "1098/1098 - 50s - 46ms/step - accuracy: 0.9959 - loss: 0.0126 - val_accuracy: 0.9997 - val_loss: 0.0012\n",
            "Epoch 22/1000\n",
            "1098/1098 - 50s - 46ms/step - accuracy: 0.9963 - loss: 0.0114 - val_accuracy: 0.9998 - val_loss: 0.0010\n",
            "Epoch 23/1000\n",
            "1098/1098 - 51s - 46ms/step - accuracy: 0.9964 - loss: 0.0112 - val_accuracy: 0.9996 - val_loss: 0.0012\n",
            "Epoch 24/1000\n",
            "1098/1098 - 50s - 46ms/step - accuracy: 0.9967 - loss: 0.0109 - val_accuracy: 0.9998 - val_loss: 8.7573e-04\n",
            "Epoch 25/1000\n",
            "1098/1098 - 50s - 46ms/step - accuracy: 0.9968 - loss: 0.0101 - val_accuracy: 0.9998 - val_loss: 5.9023e-04\n",
            "Epoch 26/1000\n",
            "1098/1098 - 50s - 46ms/step - accuracy: 0.9971 - loss: 0.0093 - val_accuracy: 0.9996 - val_loss: 0.0014\n",
            "Epoch 27/1000\n",
            "1098/1098 - 50s - 46ms/step - accuracy: 0.9971 - loss: 0.0094 - val_accuracy: 0.9997 - val_loss: 8.9778e-04\n",
            "Epoch 28/1000\n",
            "1098/1098 - 50s - 46ms/step - accuracy: 0.9968 - loss: 0.0103 - val_accuracy: 0.9997 - val_loss: 0.0011\n",
            "Epoch 29/1000\n",
            "1098/1098 - 50s - 46ms/step - accuracy: 0.9971 - loss: 0.0089 - val_accuracy: 0.9998 - val_loss: 0.0013\n",
            "Epoch 30/1000\n",
            "1098/1098 - 50s - 46ms/step - accuracy: 0.9976 - loss: 0.0082 - val_accuracy: 0.9997 - val_loss: 0.0010\n",
            "Epoch 31/1000\n",
            "1098/1098 - 50s - 46ms/step - accuracy: 0.9970 - loss: 0.0092 - val_accuracy: 0.9998 - val_loss: 9.1526e-04\n",
            "Epoch 32/1000\n",
            "1098/1098 - 50s - 46ms/step - accuracy: 0.9978 - loss: 0.0073 - val_accuracy: 0.9998 - val_loss: 8.1212e-04\n",
            "Epoch 33/1000\n",
            "1098/1098 - 51s - 46ms/step - accuracy: 0.9975 - loss: 0.0077 - val_accuracy: 0.9998 - val_loss: 9.0082e-04\n",
            "Epoch 34/1000\n",
            "1098/1098 - 50s - 46ms/step - accuracy: 0.9975 - loss: 0.0079 - val_accuracy: 0.9997 - val_loss: 7.4395e-04\n",
            "Epoch 35/1000\n",
            "1098/1098 - 50s - 46ms/step - accuracy: 0.9979 - loss: 0.0066 - val_accuracy: 0.9997 - val_loss: 0.0011\n",
            "Epoch 36/1000\n",
            "1098/1098 - 51s - 46ms/step - accuracy: 0.9978 - loss: 0.0071 - val_accuracy: 0.9998 - val_loss: 9.8753e-04\n",
            "Epoch 37/1000\n",
            "1098/1098 - 50s - 46ms/step - accuracy: 0.9979 - loss: 0.0064 - val_accuracy: 0.9998 - val_loss: 0.0010\n",
            "Epoch 38/1000\n",
            "1098/1098 - 50s - 46ms/step - accuracy: 0.9976 - loss: 0.0078 - val_accuracy: 0.9996 - val_loss: 0.0015\n",
            "Epoch 39/1000\n",
            "1098/1098 - 50s - 46ms/step - accuracy: 0.9979 - loss: 0.0066 - val_accuracy: 0.9998 - val_loss: 8.9127e-04\n",
            "Epoch 40/1000\n",
            "1098/1098 - 50s - 46ms/step - accuracy: 0.9984 - loss: 0.0052 - val_accuracy: 0.9998 - val_loss: 8.9603e-04\n",
            "Epoch 41/1000\n",
            "1098/1098 - 50s - 46ms/step - accuracy: 0.9979 - loss: 0.0062 - val_accuracy: 0.9997 - val_loss: 0.0012\n",
            "Epoch 42/1000\n",
            "1098/1098 - 50s - 46ms/step - accuracy: 0.9982 - loss: 0.0057 - val_accuracy: 0.9998 - val_loss: 8.9869e-04\n",
            "Epoch 43/1000\n",
            "1098/1098 - 50s - 46ms/step - accuracy: 0.9977 - loss: 0.0068 - val_accuracy: 0.9998 - val_loss: 7.3436e-04\n",
            "Epoch 44/1000\n",
            "1098/1098 - 50s - 46ms/step - accuracy: 0.9984 - loss: 0.0051 - val_accuracy: 0.9998 - val_loss: 9.6082e-04\n",
            "Epoch 45/1000\n",
            "1098/1098 - 50s - 46ms/step - accuracy: 0.9984 - loss: 0.0052 - val_accuracy: 0.9998 - val_loss: 5.9453e-04\n",
            "Epoch 46/1000\n",
            "1098/1098 - 50s - 46ms/step - accuracy: 0.9980 - loss: 0.0059 - val_accuracy: 0.9995 - val_loss: 0.0016\n",
            "Epoch 47/1000\n",
            "1098/1098 - 50s - 46ms/step - accuracy: 0.9983 - loss: 0.0056 - val_accuracy: 0.9998 - val_loss: 0.0012\n",
            "Epoch 48/1000\n",
            "1098/1098 - 50s - 46ms/step - accuracy: 0.9985 - loss: 0.0043 - val_accuracy: 0.9999 - val_loss: 3.7762e-04\n",
            "Epoch 49/1000\n",
            "1098/1098 - 50s - 46ms/step - accuracy: 0.9986 - loss: 0.0046 - val_accuracy: 0.9998 - val_loss: 7.4471e-04\n",
            "Epoch 50/1000\n",
            "1098/1098 - 50s - 46ms/step - accuracy: 0.9982 - loss: 0.0058 - val_accuracy: 0.9997 - val_loss: 9.9812e-04\n",
            "Epoch 51/1000\n",
            "1098/1098 - 50s - 46ms/step - accuracy: 0.9984 - loss: 0.0048 - val_accuracy: 0.9999 - val_loss: 6.3048e-04\n",
            "Epoch 52/1000\n",
            "1098/1098 - 50s - 46ms/step - accuracy: 0.9984 - loss: 0.0049 - val_accuracy: 0.9997 - val_loss: 0.0011\n",
            "Epoch 53/1000\n",
            "1098/1098 - 50s - 46ms/step - accuracy: 0.9987 - loss: 0.0041 - val_accuracy: 0.9998 - val_loss: 7.1415e-04\n",
            "Epoch 54/1000\n",
            "1098/1098 - 50s - 46ms/step - accuracy: 0.9984 - loss: 0.0054 - val_accuracy: 0.9998 - val_loss: 7.6619e-04\n",
            "Epoch 55/1000\n",
            "1098/1098 - 50s - 46ms/step - accuracy: 0.9984 - loss: 0.0045 - val_accuracy: 0.9997 - val_loss: 0.0012\n",
            "Epoch 56/1000\n",
            "1098/1098 - 50s - 46ms/step - accuracy: 0.9987 - loss: 0.0042 - val_accuracy: 0.9998 - val_loss: 7.4202e-04\n",
            "Epoch 57/1000\n",
            "1098/1098 - 50s - 46ms/step - accuracy: 0.9986 - loss: 0.0043 - val_accuracy: 0.9999 - val_loss: 8.8609e-04\n",
            "Epoch 58/1000\n",
            "1098/1098 - 51s - 46ms/step - accuracy: 0.9986 - loss: 0.0044 - val_accuracy: 0.9998 - val_loss: 9.3150e-04\n",
            "Epoch 59/1000\n",
            "1098/1098 - 50s - 46ms/step - accuracy: 0.9986 - loss: 0.0046 - val_accuracy: 0.9998 - val_loss: 9.6525e-04\n",
            "Epoch 60/1000\n",
            "1098/1098 - 50s - 46ms/step - accuracy: 0.9986 - loss: 0.0046 - val_accuracy: 0.9998 - val_loss: 8.7057e-04\n",
            "Epoch 61/1000\n",
            "1098/1098 - 50s - 46ms/step - accuracy: 0.9987 - loss: 0.0036 - val_accuracy: 0.9998 - val_loss: 6.7138e-04\n",
            "Epoch 62/1000\n",
            "1098/1098 - 50s - 46ms/step - accuracy: 0.9987 - loss: 0.0042 - val_accuracy: 0.9999 - val_loss: 6.4529e-04\n",
            "Epoch 63/1000\n",
            "1098/1098 - 50s - 46ms/step - accuracy: 0.9988 - loss: 0.0039 - val_accuracy: 0.9998 - val_loss: 8.5214e-04\n",
            "Epoch 64/1000\n",
            "1098/1098 - 50s - 46ms/step - accuracy: 0.9989 - loss: 0.0037 - val_accuracy: 0.9998 - val_loss: 0.0010\n",
            "Epoch 65/1000\n",
            "1098/1098 - 50s - 46ms/step - accuracy: 0.9987 - loss: 0.0042 - val_accuracy: 0.9997 - val_loss: 0.0011\n",
            "Epoch 66/1000\n",
            "1098/1098 - 50s - 46ms/step - accuracy: 0.9989 - loss: 0.0035 - val_accuracy: 0.9998 - val_loss: 8.9717e-04\n",
            "Epoch 67/1000\n",
            "1098/1098 - 50s - 46ms/step - accuracy: 0.9986 - loss: 0.0045 - val_accuracy: 0.9999 - val_loss: 6.0375e-04\n",
            "Epoch 68/1000\n",
            "1098/1098 - 50s - 46ms/step - accuracy: 0.9987 - loss: 0.0037 - val_accuracy: 0.9998 - val_loss: 9.4851e-04\n",
            "Epoch 69/1000\n",
            "1098/1098 - 50s - 46ms/step - accuracy: 0.9989 - loss: 0.0032 - val_accuracy: 0.9999 - val_loss: 2.7191e-04\n",
            "Epoch 70/1000\n",
            "1098/1098 - 50s - 46ms/step - accuracy: 0.9987 - loss: 0.0041 - val_accuracy: 0.9999 - val_loss: 9.6475e-04\n",
            "Epoch 71/1000\n",
            "1098/1098 - 51s - 46ms/step - accuracy: 0.9991 - loss: 0.0031 - val_accuracy: 0.9998 - val_loss: 7.0207e-04\n",
            "Epoch 72/1000\n",
            "1098/1098 - 50s - 46ms/step - accuracy: 0.9988 - loss: 0.0038 - val_accuracy: 0.9998 - val_loss: 8.0153e-04\n",
            "Epoch 73/1000\n",
            "1098/1098 - 50s - 46ms/step - accuracy: 0.9988 - loss: 0.0041 - val_accuracy: 0.9998 - val_loss: 9.1464e-04\n",
            "Epoch 74/1000\n",
            "1098/1098 - 50s - 46ms/step - accuracy: 0.9989 - loss: 0.0036 - val_accuracy: 0.9999 - val_loss: 8.4430e-04\n",
            "Epoch 75/1000\n",
            "1098/1098 - 50s - 46ms/step - accuracy: 0.9988 - loss: 0.0040 - val_accuracy: 0.9999 - val_loss: 6.4671e-04\n",
            "Epoch 76/1000\n",
            "1098/1098 - 51s - 46ms/step - accuracy: 0.9991 - loss: 0.0027 - val_accuracy: 0.9999 - val_loss: 9.4778e-04\n",
            "Epoch 77/1000\n",
            "1098/1098 - 50s - 46ms/step - accuracy: 0.9988 - loss: 0.0037 - val_accuracy: 0.9998 - val_loss: 0.0011\n",
            "Epoch 78/1000\n",
            "1098/1098 - 50s - 46ms/step - accuracy: 0.9992 - loss: 0.0023 - val_accuracy: 0.9998 - val_loss: 7.7782e-04\n",
            "Epoch 79/1000\n",
            "1098/1098 - 50s - 46ms/step - accuracy: 0.9990 - loss: 0.0032 - val_accuracy: 0.9999 - val_loss: 8.8240e-04\n",
            "Epoch 80/1000\n",
            "1098/1098 - 51s - 46ms/step - accuracy: 0.9987 - loss: 0.0037 - val_accuracy: 0.9999 - val_loss: 5.5980e-04\n",
            "Epoch 81/1000\n",
            "1098/1098 - 50s - 46ms/step - accuracy: 0.9989 - loss: 0.0031 - val_accuracy: 0.9999 - val_loss: 3.9127e-04\n",
            "Epoch 82/1000\n",
            "1098/1098 - 50s - 46ms/step - accuracy: 0.9989 - loss: 0.0031 - val_accuracy: 0.9999 - val_loss: 6.4693e-04\n",
            "Epoch 83/1000\n",
            "1098/1098 - 50s - 46ms/step - accuracy: 0.9991 - loss: 0.0029 - val_accuracy: 0.9998 - val_loss: 9.2135e-04\n",
            "Epoch 84/1000\n",
            "1098/1098 - 50s - 46ms/step - accuracy: 0.9992 - loss: 0.0029 - val_accuracy: 0.9998 - val_loss: 8.6417e-04\n",
            "Epoch 85/1000\n",
            "1098/1098 - 50s - 46ms/step - accuracy: 0.9990 - loss: 0.0031 - val_accuracy: 0.9998 - val_loss: 8.8988e-04\n",
            "Epoch 86/1000\n",
            "1098/1098 - 50s - 46ms/step - accuracy: 0.9988 - loss: 0.0036 - val_accuracy: 0.9998 - val_loss: 0.0011\n",
            "Epoch 87/1000\n",
            "1098/1098 - 50s - 46ms/step - accuracy: 0.9989 - loss: 0.0033 - val_accuracy: 0.9998 - val_loss: 5.3135e-04\n",
            "Epoch 88/1000\n",
            "1098/1098 - 50s - 46ms/step - accuracy: 0.9992 - loss: 0.0027 - val_accuracy: 0.9998 - val_loss: 8.6131e-04\n",
            "Epoch 89/1000\n",
            "1098/1098 - 50s - 46ms/step - accuracy: 0.9989 - loss: 0.0035 - val_accuracy: 0.9998 - val_loss: 7.7267e-04\n",
            "Epoch 90/1000\n",
            "1098/1098 - 50s - 46ms/step - accuracy: 0.9992 - loss: 0.0026 - val_accuracy: 0.9999 - val_loss: 7.1982e-04\n",
            "Epoch 91/1000\n",
            "1098/1098 - 50s - 46ms/step - accuracy: 0.9993 - loss: 0.0021 - val_accuracy: 0.9998 - val_loss: 0.0010\n",
            "Epoch 92/1000\n",
            "1098/1098 - 50s - 46ms/step - accuracy: 0.9988 - loss: 0.0036 - val_accuracy: 0.9998 - val_loss: 8.0058e-04\n",
            "Epoch 93/1000\n",
            "1098/1098 - 51s - 46ms/step - accuracy: 0.9992 - loss: 0.0026 - val_accuracy: 0.9998 - val_loss: 8.6649e-04\n",
            "Epoch 94/1000\n",
            "1098/1098 - 50s - 46ms/step - accuracy: 0.9992 - loss: 0.0026 - val_accuracy: 0.9998 - val_loss: 5.1695e-04\n",
            "Epoch 95/1000\n",
            "1098/1098 - 50s - 46ms/step - accuracy: 0.9992 - loss: 0.0028 - val_accuracy: 0.9996 - val_loss: 0.0015\n",
            "Epoch 96/1000\n",
            "1098/1098 - 50s - 46ms/step - accuracy: 0.9991 - loss: 0.0028 - val_accuracy: 0.9998 - val_loss: 6.6838e-04\n",
            "Epoch 97/1000\n",
            "1098/1098 - 50s - 46ms/step - accuracy: 0.9989 - loss: 0.0033 - val_accuracy: 0.9999 - val_loss: 5.4378e-04\n",
            "Epoch 98/1000\n",
            "1098/1098 - 51s - 46ms/step - accuracy: 0.9991 - loss: 0.0028 - val_accuracy: 0.9999 - val_loss: 7.6203e-04\n",
            "Epoch 99/1000\n",
            "1098/1098 - 50s - 46ms/step - accuracy: 0.9992 - loss: 0.0024 - val_accuracy: 0.9997 - val_loss: 0.0012\n",
            "Epoch 100/1000\n",
            "1098/1098 - 50s - 46ms/step - accuracy: 0.9993 - loss: 0.0023 - val_accuracy: 0.9997 - val_loss: 0.0021\n",
            "Epoch 101/1000\n",
            "1098/1098 - 50s - 46ms/step - accuracy: 0.9991 - loss: 0.0028 - val_accuracy: 0.9998 - val_loss: 8.2694e-04\n",
            "Epoch 102/1000\n",
            "1098/1098 - 51s - 46ms/step - accuracy: 0.9991 - loss: 0.0030 - val_accuracy: 0.9999 - val_loss: 5.8337e-04\n",
            "Epoch 103/1000\n",
            "1098/1098 - 50s - 46ms/step - accuracy: 0.9991 - loss: 0.0027 - val_accuracy: 0.9999 - val_loss: 8.1682e-04\n",
            "Epoch 104/1000\n",
            "1098/1098 - 51s - 46ms/step - accuracy: 0.9992 - loss: 0.0026 - val_accuracy: 0.9998 - val_loss: 6.6154e-04\n",
            "Epoch 105/1000\n",
            "1098/1098 - 50s - 46ms/step - accuracy: 0.9991 - loss: 0.0024 - val_accuracy: 0.9998 - val_loss: 9.2443e-04\n",
            "Epoch 106/1000\n",
            "1098/1098 - 50s - 46ms/step - accuracy: 0.9994 - loss: 0.0018 - val_accuracy: 0.9998 - val_loss: 6.1413e-04\n",
            "Epoch 107/1000\n",
            "1098/1098 - 50s - 46ms/step - accuracy: 0.9988 - loss: 0.0037 - val_accuracy: 0.9999 - val_loss: 7.2031e-04\n",
            "Epoch 108/1000\n",
            "1098/1098 - 50s - 46ms/step - accuracy: 0.9993 - loss: 0.0021 - val_accuracy: 0.9998 - val_loss: 6.8640e-04\n",
            "Epoch 109/1000\n",
            "1098/1098 - 50s - 46ms/step - accuracy: 0.9991 - loss: 0.0028 - val_accuracy: 0.9999 - val_loss: 6.0547e-04\n",
            "Epoch 110/1000\n",
            "1098/1098 - 51s - 46ms/step - accuracy: 0.9992 - loss: 0.0025 - val_accuracy: 0.9998 - val_loss: 6.0857e-04\n",
            "Epoch 111/1000\n",
            "1098/1098 - 50s - 46ms/step - accuracy: 0.9992 - loss: 0.0026 - val_accuracy: 0.9998 - val_loss: 9.5135e-04\n",
            "Epoch 112/1000\n",
            "1098/1098 - 50s - 46ms/step - accuracy: 0.9993 - loss: 0.0024 - val_accuracy: 0.9998 - val_loss: 8.1140e-04\n",
            "Epoch 113/1000\n",
            "1098/1098 - 50s - 46ms/step - accuracy: 0.9992 - loss: 0.0027 - val_accuracy: 0.9999 - val_loss: 6.2779e-04\n",
            "Epoch 114/1000\n",
            "1098/1098 - 50s - 46ms/step - accuracy: 0.9993 - loss: 0.0023 - val_accuracy: 0.9999 - val_loss: 7.7474e-04\n",
            "Epoch 115/1000\n",
            "1098/1098 - 51s - 46ms/step - accuracy: 0.9993 - loss: 0.0026 - val_accuracy: 0.9999 - val_loss: 0.0013\n",
            "Epoch 116/1000\n",
            "1098/1098 - 50s - 46ms/step - accuracy: 0.9992 - loss: 0.0023 - val_accuracy: 0.9998 - val_loss: 6.9114e-04\n",
            "Epoch 117/1000\n",
            "1098/1098 - 50s - 46ms/step - accuracy: 0.9992 - loss: 0.0023 - val_accuracy: 0.9999 - val_loss: 6.2986e-04\n",
            "Epoch 118/1000\n",
            "1098/1098 - 50s - 46ms/step - accuracy: 0.9992 - loss: 0.0026 - val_accuracy: 0.9999 - val_loss: 8.6833e-04\n",
            "Epoch 119/1000\n",
            "1098/1098 - 50s - 46ms/step - accuracy: 0.9993 - loss: 0.0022 - val_accuracy: 0.9998 - val_loss: 7.7332e-04\n",
            "Epoch 119: early stopping\n",
            "Restoring model weights from the end of the best epoch: 69.\n"
          ]
        }
      ]
    },
    {
      "cell_type": "markdown",
      "source": [
        "mzdfbkz"
      ],
      "metadata": {
        "id": "tOKe2--Wxv8N"
      }
    },
    {
      "cell_type": "code",
      "source": [
        "# Display best epoch's validation accuracy and loss\n",
        "best_val_acc = max(history.history['val_accuracy'])\n",
        "best_val_loss = min(history.history['val_loss'])\n",
        "print(f\"Best Validation Accuracy: {best_val_acc:.4f}\")\n",
        "print(f\"Best Validation Loss: {best_val_loss:.4f}\")"
      ],
      "metadata": {
        "id": "7Btid--Ev-7x",
        "colab": {
          "base_uri": "https://localhost:8080/"
        },
        "outputId": "343fff2c-4147-4bd9-e0a7-8e4113e5e50d"
      },
      "execution_count": null,
      "outputs": [
        {
          "output_type": "stream",
          "name": "stdout",
          "text": [
            "Best Validation Accuracy: 0.9999\n",
            "Best Validation Loss: 0.0003\n"
          ]
        }
      ]
    },
    {
      "cell_type": "code",
      "source": [
        "# Evaluate the model on the test dataset\n",
        "test_loss, test_acc = model.evaluate(test_dataset, verbose=2)\n",
        "print(f\"Test Loss: {test_loss}, Test Accuracy: {test_acc}\")"
      ],
      "metadata": {
        "id": "q0LcumUKvOw8",
        "colab": {
          "base_uri": "https://localhost:8080/"
        },
        "outputId": "9fee0020-d7ef-4a80-a8ea-cb4cb8c87163"
      },
      "execution_count": null,
      "outputs": [
        {
          "output_type": "stream",
          "name": "stdout",
          "text": [
            "366/366 - 13s - 35ms/step - accuracy: 0.9997 - loss: 0.0028\n",
            "Test Loss: 0.0027815899811685085, Test Accuracy: 0.9997438192367554\n"
          ]
        }
      ]
    },
    {
      "cell_type": "code",
      "source": [
        "# Evaluate model predictions\n",
        "y_true_test = np.concatenate([y for _, y in test_dataset], axis=0)\n",
        "y_pred_test = np.argmax(model.predict(test_dataset), axis=1)"
      ],
      "metadata": {
        "id": "o1n98RpnvQAH",
        "colab": {
          "base_uri": "https://localhost:8080/"
        },
        "outputId": "10fe5dc3-3309-4380-8ac1-b6e28384416a"
      },
      "execution_count": null,
      "outputs": [
        {
          "output_type": "stream",
          "name": "stdout",
          "text": [
            "\u001b[1m366/366\u001b[0m \u001b[32m━━━━━━━━━━━━━━━━━━━━\u001b[0m\u001b[37m\u001b[0m \u001b[1m13s\u001b[0m 35ms/step\n"
          ]
        }
      ]
    },
    {
      "cell_type": "code",
      "source": [
        "# Confusion matrix and classification report\n",
        "def print_confusion_matrix(y_true, y_pred):\n",
        "    cmx_data = confusion_matrix(y_true, y_pred)\n",
        "    df_cmx = pd.DataFrame(cmx_data, index=np.unique(y_true), columns=np.unique(y_true))\n",
        "\n",
        "    fig, ax = plt.subplots(figsize=(10, 8))\n",
        "    sns.heatmap(df_cmx, annot=True, fmt='g', square=True, cmap='Blues')\n",
        "    plt.xlabel('Predicted')\n",
        "    plt.ylabel('True')\n",
        "    plt.title('Confusion Matrix')\n",
        "    plt.show()\n",
        "\n",
        "    print('Classification Report')\n",
        "    print(classification_report(y_true, y_pred))\n",
        "\n",
        "print_confusion_matrix(y_true_test, y_pred_test)"
      ],
      "metadata": {
        "id": "sphgrOlAvRyE",
        "colab": {
          "base_uri": "https://localhost:8080/",
          "height": 1000
        },
        "outputId": "66e94806-a385-4ea5-8ef3-d54b8477e62b"
      },
      "execution_count": null,
      "outputs": [
        {
          "output_type": "display_data",
          "data": {
            "text/plain": [
              "<Figure size 1000x800 with 2 Axes>"
            ],
            "image/png": "[encoded data removed]"
          },
          "metadata": {}
        },
        {
          "output_type": "stream",
          "name": "stdout",
          "text": [
            "Classification Report\n",
            "              precision    recall  f1-score   support\n",
            "\n",
            "           0       1.00      1.00      1.00      1948\n",
            "           1       1.00      1.00      1.00      1852\n",
            "           2       1.00      1.00      1.00      1794\n",
            "           3       1.00      1.00      1.00      1911\n",
            "           4       1.00      1.00      1.00      1674\n",
            "           5       1.00      1.00      1.00      2074\n",
            "           6       1.00      1.00      1.00      1659\n",
            "           7       1.00      1.00      1.00      1648\n",
            "           8       1.00      1.00      1.00      1616\n",
            "           9       1.00      1.00      1.00      1545\n",
            "          10       1.00      1.00      1.00      1549\n",
            "          11       1.00      1.00      1.00      1878\n",
            "          12       1.00      1.00      1.00      1574\n",
            "          13       1.00      1.00      1.00      1877\n",
            "          14       1.00      1.00      1.00      1915\n",
            "          15       1.00      1.00      1.00      1815\n",
            "          16       1.00      1.00      1.00      1696\n",
            "          17       1.00      1.00      1.00      1810\n",
            "          18       1.00      1.00      1.00      1698\n",
            "          19       1.00      1.00      1.00      1806\n",
            "          20       1.00      1.00      1.00      1873\n",
            "          21       1.00      1.00      1.00      1897\n",
            "          22       1.00      1.00      1.00      1955\n",
            "          23       1.00      1.00      1.00      1770\n",
            "          24       1.00      1.00      1.00      2044\n",
            "          25       1.00      1.00      1.00      1959\n",
            "\n",
            "    accuracy                           1.00     46837\n",
            "   macro avg       1.00      1.00      1.00     46837\n",
            "weighted avg       1.00      1.00      1.00     46837\n",
            "\n"
          ]
        }
      ]
    },
    {
      "cell_type": "code",
      "source": [
        "# Save the model\n",
        "model.save(MODEL_SAVE_PATH, include_optimizer=False)"
      ],
      "metadata": {
        "id": "xTJ7VHyHvUlv",
        "colab": {
          "base_uri": "https://localhost:8080/"
        },
        "outputId": "d4521c56-5e60-4c2a-d76d-69b682f21c0a"
      },
      "execution_count": null,
      "outputs": [
        {
          "output_type": "stream",
          "name": "stderr",
          "text": [
            "WARNING:absl:You are saving your model as an HDF5 file via `model.save()` or `keras.saving.save_model(model)`. This file format is considered legacy. We recommend using instead the native Keras format, e.g. `model.save('my_model.keras')` or `keras.saving.save_model(model, 'my_model.keras')`. \n"
          ]
        }
      ]
    },
    {
      "cell_type": "code",
      "source": [
        "# Convert the model to TFLite (quantization)\n",
        "converter = tf.lite.TFLiteConverter.from_keras_model(model)\n",
        "converter.optimizations = [tf.lite.Optimize.DEFAULT]\n",
        "tflite_quantized_model = converter.convert()"
      ],
      "metadata": {
        "id": "KfZ87DKzvVzj",
        "colab": {
          "base_uri": "https://localhost:8080/"
        },
        "outputId": "b5fe6c34-bfc8-46ac-c1ce-75850b2c2079"
      },
      "execution_count": null,
      "outputs": [
        {
          "output_type": "stream",
          "name": "stdout",
          "text": [
            "Saved artifact at '/tmp/tmpd1w0_anm'. The following endpoints are available:\n",
            "\n",
            "* Endpoint 'serve'\n",
            "  args_0 (POSITIONAL_ONLY): TensorSpec(shape=(None, 224, 224, 3), dtype=tf.float32, name='keras_tensor')\n",
            "Output Type:\n",
            "  TensorSpec(shape=(None, 26), dtype=tf.float32, name=None)\n",
            "Captures:\n",
            "  136713866148880: TensorSpec(shape=(), dtype=tf.resource, name=None)\n",
            "  136713866142896: TensorSpec(shape=(), dtype=tf.resource, name=None)\n",
            "  136713866147120: TensorSpec(shape=(), dtype=tf.resource, name=None)\n",
            "  136713866140960: TensorSpec(shape=(), dtype=tf.resource, name=None)\n",
            "  136715348277584: TensorSpec(shape=(), dtype=tf.resource, name=None)\n",
            "  136713643428848: TensorSpec(shape=(), dtype=tf.resource, name=None)\n",
            "  136713866145184: TensorSpec(shape=(), dtype=tf.resource, name=None)\n",
            "  136713866142016: TensorSpec(shape=(), dtype=tf.resource, name=None)\n",
            "  136713866146240: TensorSpec(shape=(), dtype=tf.resource, name=None)\n",
            "  136713866147648: TensorSpec(shape=(), dtype=tf.resource, name=None)\n",
            "  136712252461248: TensorSpec(shape=(), dtype=tf.resource, name=None)\n",
            "  136712252460368: TensorSpec(shape=(), dtype=tf.resource, name=None)\n",
            "  136712252464064: TensorSpec(shape=(), dtype=tf.resource, name=None)\n",
            "  136712252471984: TensorSpec(shape=(), dtype=tf.resource, name=None)\n",
            "  136712252472160: TensorSpec(shape=(), dtype=tf.resource, name=None)\n",
            "  136712252470224: TensorSpec(shape=(), dtype=tf.resource, name=None)\n",
            "  136712252464240: TensorSpec(shape=(), dtype=tf.resource, name=None)\n",
            "  136712252472864: TensorSpec(shape=(), dtype=tf.resource, name=None)\n",
            "  136712252470928: TensorSpec(shape=(), dtype=tf.resource, name=None)\n",
            "  136712252470048: TensorSpec(shape=(), dtype=tf.resource, name=None)\n",
            "  136712252469520: TensorSpec(shape=(), dtype=tf.resource, name=None)\n",
            "  136712252465824: TensorSpec(shape=(), dtype=tf.resource, name=None)\n",
            "  136712252467760: TensorSpec(shape=(), dtype=tf.resource, name=None)\n",
            "  136711562529248: TensorSpec(shape=(), dtype=tf.resource, name=None)\n"
          ]
        }
      ]
    },
    {
      "cell_type": "code",
      "source": [
        "# Save the TFLite model\n",
        "with open(TFLITE_SAVE_PATH, 'wb') as f:\n",
        "    f.write(tflite_quantized_model)"
      ],
      "metadata": {
        "id": "ROpyPc-zvXM5"
      },
      "execution_count": null,
      "outputs": []
    },
    {
      "cell_type": "code",
      "source": [
        "# Test TFLite inference\n",
        "interpreter = tf.lite.Interpreter(model_path=TFLITE_SAVE_PATH)\n",
        "interpreter.allocate_tensors()"
      ],
      "metadata": {
        "id": "ZKQy8L-PvYKu"
      },
      "execution_count": null,
      "outputs": []
    },
    {
      "cell_type": "code",
      "source": [
        "# Get I/O tensors\n",
        "input_details = interpreter.get_input_details()\n",
        "output_details = interpreter.get_output_details()"
      ],
      "metadata": {
        "id": "rwg7_7p4vY-2"
      },
      "execution_count": null,
      "outputs": []
    },
    {
      "cell_type": "code",
      "source": [
        "# Run inference\n",
        "interpreter.invoke()\n",
        "tflite_results = interpreter.get_tensor(output_details[0]['index'])\n",
        "print(\"TFLite Prediction Result:\", np.squeeze(tflite_results))\n",
        "print(\"TFLite Predicted Class:\", np.argmax(np.squeeze(tflite_results)))"
      ],
      "metadata": {
        "id": "bf9K0ws4vZy9",
        "colab": {
          "base_uri": "https://localhost:8080/"
        },
        "outputId": "3f4847d7-ca78-4b06-fdd5-a9a5120f19b5"
      },
      "execution_count": null,
      "outputs": [
        {
          "output_type": "stream",
          "name": "stdout",
          "text": [
            "TFLite Prediction Result: [nan nan nan nan nan nan nan nan nan nan nan nan nan nan nan nan nan nan\n",
            " nan nan nan nan nan nan nan nan]\n",
            "TFLite Predicted Class: 0\n"
          ]
        }
      ]
    }
  ]
}